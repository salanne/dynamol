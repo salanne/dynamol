{
 "cells": [
  {
   "cell_type": "code",
   "execution_count": null,
   "id": "1fd1775f",
   "metadata": {},
   "outputs": [],
   "source": [
    "!pip install -q condacolab\n",
    "import condacolab\n",
    "condacolab.install()"
   ]
  },
  {
   "cell_type": "code",
   "execution_count": null,
   "id": "e03e3b33",
   "metadata": {},
   "outputs": [],
   "source": [
    "!conda install MDAnalysis"
   ]
  },
  {
   "cell_type": "code",
   "execution_count": null,
   "id": "5fb9f212",
   "metadata": {},
   "outputs": [],
   "source": [
    "!mamba install \"ipywidgets=7\" -c conda-forge"
   ]
  },
  {
   "cell_type": "code",
   "execution_count": null,
   "id": "4c5c7ef3",
   "metadata": {},
   "outputs": [],
   "source": [
    "!conda install nglview"
   ]
  }
 ],
 "metadata": {
  "kernelspec": {
   "display_name": "Python 3 (ipykernel)",
   "language": "python",
   "name": "python3"
  },
  "language_info": {
   "codemirror_mode": {
    "name": "ipython",
    "version": 3
   },
   "file_extension": ".py",
   "mimetype": "text/x-python",
   "name": "python",
   "nbconvert_exporter": "python",
   "pygments_lexer": "ipython3",
   "version": "3.9.13"
  }
 },
 "nbformat": 4,
 "nbformat_minor": 5
}
