{
  "nbformat": 4,
  "nbformat_minor": 0,
  "metadata": {
    "colab": {
      "provenance": [],
      "include_colab_link": true
    },
    "kernelspec": {
      "name": "python3",
      "display_name": "Python 3"
    }
  },
  "cells": [
    {
      "cell_type": "markdown",
      "metadata": {
        "id": "view-in-github",
        "colab_type": "text"
      },
      "source": [
        "<a href=\"https://colab.research.google.com/github/salanne/dynamol/blob/main/gpaw_convergence.ipynb\" target=\"_parent\"><img src=\"https://colab.research.google.com/assets/colab-badge.svg\" alt=\"Open In Colab\"/></a>"
      ]
    },
    {
      "cell_type": "markdown",
      "metadata": {
        "id": "TnceF8QX6LtP"
      },
      "source": [
        "## Running DFT with ASE and GPAW ##"
      ]
    },
    {
      "cell_type": "markdown",
      "metadata": {
        "id": "4iBLdh2952R2"
      },
      "source": [
        "Installing Atomic Simulation Environment (ASE) and GPAW"
      ]
    },
    {
      "cell_type": "code",
      "metadata": {
        "id": "DLHXVj3BGkwg"
      },
      "source": [
        "%%capture\n",
        "!apt install python3-mpi4py cython3 libxc-dev gpaw-data\n",
        "!pip -q install gpaw"
      ],
      "execution_count": null,
      "outputs": []
    },
    {
      "cell_type": "markdown",
      "metadata": {
        "id": "GyZDioDT5_ZE"
      },
      "source": [
        "Calculating energy of H$_2$"
      ]
    },
    {
      "cell_type": "code",
      "metadata": {
        "id": "RpSzXfa5IplO"
      },
      "source": [
        "from ase import Atoms\n",
        "from ase.io import read, write\n",
        "from gpaw import GPAW, PW\n",
        "import time\n",
        "\n",
        "h2 = Atoms('H2', [(0, 0, 0), (0, 0, 0.74)])\n",
        "h2.center(vacuum=2.5)\n",
        "write('h2.cif', h2)\n",
        "print(h2.cell)\n",
        "print(h2.positions)"
      ],
      "execution_count": null,
      "outputs": []
    },
    {
      "cell_type": "markdown",
      "metadata": {
        "id": "p7yjEDyCp0NX"
      },
      "source": [
        "Testing for energy cutoff convergence"
      ]
    },
    {
      "cell_type": "code",
      "metadata": {
        "id": "GQ0H-siXI4I9"
      },
      "source": [
        "cutoffs = [200,300,400,500,1000]\n",
        "times = []\n",
        "energies = []\n",
        "\n",
        "for cutoff in cutoffs:\n",
        "  start_time = time.time()\n",
        "  calc = GPAW(xc='LDA',\n",
        "              kpts=(1,1,1),\n",
        "              mode=PW(cutoff),\n",
        "              txt='h2.txt')\n",
        "  h2.set_calculator(calc)\n",
        "  energies.append(h2.get_potential_energy())\n",
        "  times.append(time.time() - start_time)\n",
        "print(times)  # seconds\n",
        "print(energies)  # eV"
      ],
      "execution_count": null,
      "outputs": []
    },
    {
      "cell_type": "code",
      "metadata": {
        "id": "Cd1267qyBdXJ"
      },
      "source": [
        "import matplotlib.pyplot as plt\n",
        "\n",
        "f, ax = plt.subplots(2, sharex=True)\n",
        "ax[0].plot(cutoffs, energies)\n",
        "ax[0].set_ylabel('Energy (eV)')\n",
        "ax[0].set_title('Convergence test for H2')\n",
        "\n",
        "ax[1].plot(cutoffs, times)\n",
        "ax[1].set_ylabel('Time (s)')\n",
        "ax[1].set_xlabel('Energy Cutoff (eV)')\n",
        "\n",
        "plt.show()"
      ],
      "execution_count": null,
      "outputs": []
    },
    {
      "cell_type": "markdown",
      "metadata": {
        "id": "nRq4Gf0Mp6lr"
      },
      "source": [
        "Calculating the electron density and plotting a contour plot"
      ]
    },
    {
      "cell_type": "code",
      "metadata": {
        "id": "hX0b0KOOqEYW"
      },
      "source": [
        "import numpy as np\n",
        "\n",
        "n = calc.get_all_electron_density(gridrefinement=4)\n",
        "\n",
        "nred = np.sum(n, axis=0) #sum over density in x-direction\n",
        "#print(np.shape(nred))\n",
        "\n",
        "fig, ax = plt.subplots()\n",
        "ax.contourf(nred)\n",
        "ax.set_xlim([45, 120])\n",
        "ax.set_ylim([35, 110])\n",
        "ax.set_aspect(1)\n",
        "plt.show()"
      ],
      "execution_count": null,
      "outputs": []
    }
  ]
}